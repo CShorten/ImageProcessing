{
 "cells": [
  {
   "cell_type": "code",
   "execution_count": 3,
   "metadata": {},
   "outputs": [
    {
     "name": "stdout",
     "output_type": "stream",
     "text": [
      "(4, 4)\n",
      "TIME TAKEN: 0.5208969116210938 SECONDS\n",
      "229\n",
      "[[  -1.   68.   56.    0.]\n",
      " [  28.  255.  255.    0.]\n",
      " [   0.  257.  255.   72.]\n",
      " [   0.    0.   -2.    0.]]\n"
     ]
    },
    {
     "data": {
      "image/png": "[encoded data removed]",
      "text/plain": [
       "<matplotlib.figure.Figure at 0x11a4d6c18>"
      ]
     },
     "metadata": {},
     "output_type": "display_data"
    }
   ],
   "source": [
    "import numpy as np\n",
    "import matplotlib.pyplot as plt\n",
    "\n",
    "#Generate Random Image (Milestone 2)\n",
    "Target = np.zeros((4, 4), np.uint8)\n",
    "print(Target.shape)\n",
    "'''\n",
    "plt.imshow(Target, cmap = 'gray')\n",
    "plt.title(\"Initialized at zero\")\n",
    "plt.show()\n",
    "'''\n",
    "Target[1][1] = 255\n",
    "Target[1][2] = 255\n",
    "Target[2][1] = 255\n",
    "Target[2][2] = 255\n",
    "'''\n",
    "plt.imshow(Target, cmap = 'gray')\n",
    "plt.title(\"Target\")\n",
    "plt.show()\n",
    "'''\n",
    "import operator\n",
    "import time\n",
    "def computeL1Distance(target, X):\n",
    "    total = 0\n",
    "    for i in range(4):\n",
    "        for j in range(4):\n",
    "            total += abs(int(target[i][j] - int(X[i][j])))\n",
    "    return total\n",
    "def getMin(target, generation):\n",
    "    genMetrics = {}\n",
    "    for i in range(len(generation)):\n",
    "        distance = computeL1Distance(target, generation[i])\n",
    "        index = i\n",
    "        genMetrics.update({distance: index})\n",
    "    sortedMetrics = sorted(genMetrics.items(), key=operator.itemgetter(0))\n",
    "    Index = sortedMetrics[0][1]\n",
    "    return Index\n",
    "def Selection(target, generation):\n",
    "    index = getMin(target, generation)\n",
    "    parent = generation[index]\n",
    "    return parent\n",
    "def Mutate(target, parent):\n",
    "    nextGen = []\n",
    "    nextGen.append(parent)\n",
    "    for i in range(9):\n",
    "        Mut1 = np.zeros((4,4))\n",
    "        for pX in range(4):\n",
    "            for pY in range(4):\n",
    "                Mut1[pX][pY] = parent[pX][pY]\n",
    "        for x in range(4):\n",
    "            for y in range(4):\n",
    "                Mut1[x][y] += np.random.randint(-1,2)\n",
    "        nextGen.append(Mut1)\n",
    "    return nextGen\n",
    "def Initialize():\n",
    "    generation = []\n",
    "    for i in range(10):\n",
    "        entry = np.zeros((4,4), np.uint8)\n",
    "        for i in range(4):\n",
    "            for j in range(4):\n",
    "                entry[i][j] = np.random.randint(0, 255)\n",
    "        generation.append(entry)\n",
    "    return generation\n",
    "def Evolve(target, iterations):\n",
    "    nextGen = [[[]]]\n",
    "    for i in range(iterations):\n",
    "        if (i == 0):\n",
    "            nextGen = Initialize()\n",
    "        parent = Selection(target, nextGen)\n",
    "        nextGen = Mutate(target, parent)\n",
    "    parent = Selection(target, nextGen)\n",
    "    return parent\n",
    "\n",
    "start = time.time()\n",
    "Lebron = Evolve(Target, 500)\n",
    "end = time.time()\n",
    "print(\"TIME TAKEN: \" + str(end-start) + \" SECONDS\")\n",
    "print(computeL1Distance(Target, Lebron))\n",
    "print(Lebron)\n",
    "plt.imshow(Lebron, cmap = 'gray')\n",
    "plt.show() "
   ]
  },
  {
   "cell_type": "code",
   "execution_count": null,
   "metadata": {
    "collapsed": true
   },
   "outputs": [],
   "source": []
  }
 ],
 "metadata": {
  "kernelspec": {
   "display_name": "Python 3",
   "language": "python",
   "name": "python3"
  },
  "language_info": {
   "codemirror_mode": {
    "name": "ipython",
    "version": 3
   },
   "file_extension": ".py",
   "mimetype": "text/x-python",
   "name": "python",
   "nbconvert_exporter": "python",
   "pygments_lexer": "ipython3",
   "version": "3.5.4"
  }
 },
 "nbformat": 4,
 "nbformat_minor": 2
}
